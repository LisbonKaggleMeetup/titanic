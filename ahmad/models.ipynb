{
 "cells": [
  {
   "cell_type": "markdown",
   "metadata": {},
   "source": [
    "# Titanic Challenge - Random Forest "
   ]
  },
  {
   "cell_type": "markdown",
   "metadata": {},
   "source": [
    "### Importing necessary libraries"
   ]
  },
  {
   "cell_type": "code",
   "execution_count": 1,
   "metadata": {
    "colab": {
     "autoexec": {
      "startup": false,
      "wait_interval": 0
     }
    },
    "colab_type": "code",
    "id": "VDwzIeCRKe-v"
   },
   "outputs": [],
   "source": [
    "# -*- coding: utf-8 -*-\n",
    "\"\"\"\n",
    "Created on Sun Apr  1 22:14:12 2018\n",
    "\n",
    "@author: Ahmad\n",
    "\"\"\"\n",
    "\n",
    "import pandas as pd\n",
    "import numpy as np\n",
    "import seaborn as sns; sns.set()\n",
    "import matplotlib.pyplot as plt\n",
    "#%matplotlib qt5\n",
    "from mpl_toolkits.mplot3d import Axes3D\n",
    "from sklearn import linear_model as lm\n",
    "from sklearn.preprocessing import LabelEncoder, OneHotEncoder, Imputer\n",
    "from sklearn.ensemble import RandomForestClassifier"
   ]
  },
  {
   "cell_type": "markdown",
   "metadata": {},
   "source": [
    "### Importing data sets"
   ]
  },
  {
   "cell_type": "code",
   "execution_count": 2,
   "metadata": {
    "colab": {
     "autoexec": {
      "startup": false,
      "wait_interval": 0
     }
    },
    "colab_type": "code",
    "id": "ypbsP6rnKsRn"
   },
   "outputs": [],
   "source": [
    "df = pd.read_csv('input/train.csv')\n",
    "dftest = pd.read_csv(\"input/test.csv\")"
   ]
  },
  {
   "cell_type": "markdown",
   "metadata": {},
   "source": [
    "### Cleaning and preparing datasets "
   ]
  },
  {
   "cell_type": "code",
   "execution_count": 3,
   "metadata": {},
   "outputs": [],
   "source": [
    "y = df[\"Survived\"] # separate the label (aka dependent variable or the feature we want to predict)\n",
    "\n",
    "# we're going to use only numeric variables\n",
    "numdf = df.select_dtypes(include=[np.number]).drop([\"PassengerId\", \"Survived\"],1)\n",
    "numdf_test = dftest.select_dtypes(include=[np.number]).drop([\"PassengerId\"],1)\n",
    "\n",
    "# Cleaning missing values by replaceing them by the mean\n",
    "imputer = Imputer(missing_values = 'NaN', strategy = 'mean', axis = 0)\n",
    "#train the imputer (in this case get the mean):\n",
    "imputer = imputer.fit(numdf.values)\n",
    "#apply the imputer transformation, i.e. replace NaN by the mean, don't forget to apply exactly the same transf to the test set!!!\n",
    "X = imputer.transform(numdf.values)\n",
    "dfclean = pd.DataFrame(X)\n",
    "\n",
    "Xt = imputer.transform(numdf_test.values)\n",
    "df_testclean = pd.DataFrame(Xt)"
   ]
  },
  {
   "cell_type": "markdown",
   "metadata": {},
   "source": [
    "## Model: Random Forest"
   ]
  },
  {
   "cell_type": "code",
   "execution_count": 4,
   "metadata": {},
   "outputs": [
    {
     "name": "stdout",
     "output_type": "stream",
     "text": [
      "finished\n"
     ]
    }
   ],
   "source": [
    "#Classification Using Random Forest\n",
    "classifier = RandomForestClassifier(n_estimators = 80, criterion = 'entropy', max_depth = 6)\n",
    "classifier.fit(dfclean,y.ravel())\n",
    "\n",
    "\n",
    "Y_Pred = classifier.predict(df_testclean)\n",
    "print(\"finished\")\n",
    "#Y_Pred = pd.DataFrame(Y_Pred)\n",
    "#print(len(Y_Pred))\n",
    "#print(len(dftest.PassengerId))\n",
    "YY_Pred = pd.concat([dftest.PassengerId,pd.DataFrame(Y_Pred, columns = ['Survived'])],axis=1)\n",
    "YY_Pred.to_csv(\"submission_.csv\", index = False)\n"
   ]
  }
 ],
 "metadata": {
  "colab": {
   "default_view": {},
   "name": "models.ipynb",
   "provenance": [],
   "version": "0.3.2",
   "views": {}
  },
  "kernelspec": {
   "display_name": "Python 3",
   "language": "python",
   "name": "python3"
  },
  "language_info": {
   "codemirror_mode": {
    "name": "ipython",
    "version": 3
   },
   "file_extension": ".py",
   "mimetype": "text/x-python",
   "name": "python",
   "nbconvert_exporter": "python",
   "pygments_lexer": "ipython3",
   "version": "3.6.4"
  }
 },
 "nbformat": 4,
 "nbformat_minor": 1
}
