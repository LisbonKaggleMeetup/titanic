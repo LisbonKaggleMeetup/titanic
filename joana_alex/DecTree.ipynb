{
 "cells": [
  {
   "cell_type": "markdown",
   "metadata": {},
   "source": [
    "# Decision Tree - **training**, **validating**, **visualizing** and hyperparameter **tunning**"
   ]
  },
  {
   "cell_type": "code",
   "execution_count": 12,
   "metadata": {
    "colab": {
     "autoexec": {
      "startup": false,
      "wait_interval": 0
     }
    },
    "colab_type": "code",
    "id": "L7eJjg6WN_hK"
   },
   "outputs": [],
   "source": [
    "import pandas as pd\n",
    "import numpy as np\n",
    "from matplotlib import pyplot as plt\n",
    "%matplotlib inline\n",
    "import seaborn as sns\n",
    "from sklearn.model_selection import train_test_split\n",
    "from sklearn.metrics import r2_score, accuracy_score, precision_score, recall_score, confusion_matrix, f1_score\n",
    "from sklearn.model_selection import cross_val_score\n",
    "from sklearn import tree, preprocessing\n",
    "import graphviz \n",
    "from sklearn.ensemble import RandomForestClassifier"
   ]
  },
  {
   "cell_type": "code",
   "execution_count": 5,
   "metadata": {
    "colab": {
     "autoexec": {
      "startup": false,
      "wait_interval": 0
     }
    },
    "colab_type": "code",
    "id": "-7xjLGkTN_hO"
   },
   "outputs": [],
   "source": [
    "train = pd.read_csv('../input/train.csv')\n",
    "test = pd.read_csv('../input/test.csv')"
   ]
  },
  {
   "cell_type": "markdown",
   "metadata": {
    "colab_type": "text",
    "id": "S7jMGC14N_hS"
   },
   "source": [
    "## Remove unwanted columns"
   ]
  },
  {
   "cell_type": "code",
   "execution_count": 6,
   "metadata": {
    "colab": {
     "autoexec": {
      "startup": false,
      "wait_interval": 0
     }
    },
    "colab_type": "code",
    "id": "MCZkCHbRN_hU"
   },
   "outputs": [],
   "source": [
    "train = train.drop([\"Name\",\"Ticket\",\"Cabin\"],1)\n",
    "test = test.drop([\"Name\",\"Ticket\",\"Cabin\"],1)"
   ]
  },
  {
   "cell_type": "markdown",
   "metadata": {
    "colab_type": "text",
    "id": "k-p9MOMUN_hW"
   },
   "source": [
    "## Take care of missing values"
   ]
  },
  {
   "cell_type": "code",
   "execution_count": 7,
   "metadata": {
    "colab": {
     "autoexec": {
      "startup": false,
      "wait_interval": 0
     }
    },
    "colab_type": "code",
    "id": "gxIoG_P4N_hX",
    "outputId": "20f98e24-0504-4469-bcc0-83dd14a0fc6e"
   },
   "outputs": [
    {
     "data": {
      "text/html": [
       "<div>\n",
       "<style scoped>\n",
       "    .dataframe tbody tr th:only-of-type {\n",
       "        vertical-align: middle;\n",
       "    }\n",
       "\n",
       "    .dataframe tbody tr th {\n",
       "        vertical-align: top;\n",
       "    }\n",
       "\n",
       "    .dataframe thead th {\n",
       "        text-align: right;\n",
       "    }\n",
       "</style>\n",
       "<table border=\"1\" class=\"dataframe\">\n",
       "  <thead>\n",
       "    <tr style=\"text-align: right;\">\n",
       "      <th></th>\n",
       "      <th>PassengerId</th>\n",
       "      <th>Pclass</th>\n",
       "      <th>Age</th>\n",
       "      <th>SibSp</th>\n",
       "      <th>Parch</th>\n",
       "      <th>Fare</th>\n",
       "    </tr>\n",
       "  </thead>\n",
       "  <tbody>\n",
       "    <tr>\n",
       "      <th>count</th>\n",
       "      <td>891.000000</td>\n",
       "      <td>891.000000</td>\n",
       "      <td>714.000000</td>\n",
       "      <td>891.000000</td>\n",
       "      <td>891.000000</td>\n",
       "      <td>891.000000</td>\n",
       "    </tr>\n",
       "    <tr>\n",
       "      <th>mean</th>\n",
       "      <td>446.000000</td>\n",
       "      <td>2.308642</td>\n",
       "      <td>29.699118</td>\n",
       "      <td>0.523008</td>\n",
       "      <td>0.381594</td>\n",
       "      <td>32.204208</td>\n",
       "    </tr>\n",
       "    <tr>\n",
       "      <th>std</th>\n",
       "      <td>257.353842</td>\n",
       "      <td>0.836071</td>\n",
       "      <td>14.526497</td>\n",
       "      <td>1.102743</td>\n",
       "      <td>0.806057</td>\n",
       "      <td>49.693429</td>\n",
       "    </tr>\n",
       "    <tr>\n",
       "      <th>min</th>\n",
       "      <td>1.000000</td>\n",
       "      <td>1.000000</td>\n",
       "      <td>0.420000</td>\n",
       "      <td>0.000000</td>\n",
       "      <td>0.000000</td>\n",
       "      <td>0.000000</td>\n",
       "    </tr>\n",
       "    <tr>\n",
       "      <th>25%</th>\n",
       "      <td>223.500000</td>\n",
       "      <td>2.000000</td>\n",
       "      <td>20.125000</td>\n",
       "      <td>0.000000</td>\n",
       "      <td>0.000000</td>\n",
       "      <td>7.910400</td>\n",
       "    </tr>\n",
       "    <tr>\n",
       "      <th>50%</th>\n",
       "      <td>446.000000</td>\n",
       "      <td>3.000000</td>\n",
       "      <td>28.000000</td>\n",
       "      <td>0.000000</td>\n",
       "      <td>0.000000</td>\n",
       "      <td>14.454200</td>\n",
       "    </tr>\n",
       "    <tr>\n",
       "      <th>75%</th>\n",
       "      <td>668.500000</td>\n",
       "      <td>3.000000</td>\n",
       "      <td>38.000000</td>\n",
       "      <td>1.000000</td>\n",
       "      <td>0.000000</td>\n",
       "      <td>31.000000</td>\n",
       "    </tr>\n",
       "    <tr>\n",
       "      <th>max</th>\n",
       "      <td>891.000000</td>\n",
       "      <td>3.000000</td>\n",
       "      <td>80.000000</td>\n",
       "      <td>8.000000</td>\n",
       "      <td>6.000000</td>\n",
       "      <td>512.329200</td>\n",
       "    </tr>\n",
       "  </tbody>\n",
       "</table>\n",
       "</div>"
      ],
      "text/plain": [
       "       PassengerId      Pclass         Age       SibSp       Parch        Fare\n",
       "count   891.000000  891.000000  714.000000  891.000000  891.000000  891.000000\n",
       "mean    446.000000    2.308642   29.699118    0.523008    0.381594   32.204208\n",
       "std     257.353842    0.836071   14.526497    1.102743    0.806057   49.693429\n",
       "min       1.000000    1.000000    0.420000    0.000000    0.000000    0.000000\n",
       "25%     223.500000    2.000000   20.125000    0.000000    0.000000    7.910400\n",
       "50%     446.000000    3.000000   28.000000    0.000000    0.000000   14.454200\n",
       "75%     668.500000    3.000000   38.000000    1.000000    0.000000   31.000000\n",
       "max     891.000000    3.000000   80.000000    8.000000    6.000000  512.329200"
      ]
     },
     "execution_count": 7,
     "metadata": {},
     "output_type": "execute_result"
    }
   ],
   "source": [
    "complete_set = pd.concat([train.drop([\"Survived\"],1)])\n",
    "complete_set.describe()"
   ]
  },
  {
   "cell_type": "code",
   "execution_count": 8,
   "metadata": {
    "colab": {
     "autoexec": {
      "startup": false,
      "wait_interval": 0
     }
    },
    "colab_type": "code",
    "id": "4pg4mBwfN_hf",
    "outputId": "fd075af0-b2e8-4c61-a1b7-bb84adf6e78b"
   },
   "outputs": [
    {
     "name": "stdout",
     "output_type": "stream",
     "text": [
      "<class 'pandas.core.frame.DataFrame'>\n",
      "RangeIndex: 891 entries, 0 to 890\n",
      "Data columns (total 8 columns):\n",
      "PassengerId    891 non-null int64\n",
      "Pclass         891 non-null int64\n",
      "Sex            891 non-null object\n",
      "Age            714 non-null float64\n",
      "SibSp          891 non-null int64\n",
      "Parch          891 non-null int64\n",
      "Fare           891 non-null float64\n",
      "Embarked       889 non-null object\n",
      "dtypes: float64(2), int64(4), object(2)\n",
      "memory usage: 55.8+ KB\n"
     ]
    }
   ],
   "source": [
    "complete_set.info()"
   ]
  },
  {
   "cell_type": "markdown",
   "metadata": {
    "colab_type": "text",
    "id": "UmkOlH6BN_hk"
   },
   "source": [
    "### Method 1 - Remove lines with null age"
   ]
  },
  {
   "cell_type": "code",
   "execution_count": null,
   "metadata": {
    "colab": {
     "autoexec": {
      "startup": false,
      "wait_interval": 0
     }
    },
    "colab_type": "code",
    "id": "irujqCeaN_hl",
    "outputId": "ef7f7326-285a-4207-fcbc-9d7139aa78c5"
   },
   "outputs": [
    {
     "data": {
      "text/plain": [
       "<matplotlib.axes._subplots.AxesSubplot at 0x1af290955f8>"
      ]
     },
     "execution_count": 6,
     "metadata": {
      "tags": []
     },
     "output_type": "execute_result"
    },
    {
     "data": {
      "image/png": "[encoded data removed]",
      "text/plain": [
       "<Figure size 432x288 with 1 Axes>"
      ]
     },
     "metadata": {
      "tags": []
     },
     "output_type": "display_data"
    }
   ],
   "source": [
    "plt.figure()\n",
    "complete_set.Age.dropna().hist()"
   ]
  },
  {
   "cell_type": "markdown",
   "metadata": {
    "colab_type": "text",
    "id": "IuTKPRZZN_hp"
   },
   "source": [
    "### Method 2 - Replace null ages by a random value with the same distribution as the data"
   ]
  },
  {
   "cell_type": "code",
   "execution_count": null,
   "metadata": {
    "colab": {
     "autoexec": {
      "startup": false,
      "wait_interval": 0
     }
    },
    "colab_type": "code",
    "id": "Dm6laYk1N_hq",
    "outputId": "c159faa9-2851-4e60-a755-643148606aec"
   },
   "outputs": [
    {
     "name": "stderr",
     "output_type": "stream",
     "text": [
      "C:\\Users\\ASSG\\Anaconda3\\lib\\site-packages\\matplotlib\\axes\\_axes.py:6462: UserWarning: The 'normed' kwarg is deprecated, and has been replaced by the 'density' kwarg.\n",
      "  warnings.warn(\"The 'normed' kwarg is deprecated, and has been \"\n"
     ]
    },
    {
     "data": {
      "text/plain": [
       "<matplotlib.axes._subplots.AxesSubplot at 0x1af29444fd0>"
      ]
     },
     "execution_count": 7,
     "metadata": {
      "tags": []
     },
     "output_type": "execute_result"
    },
    {
     "data": {
      "image/png": "[encoded data removed]",
      "text/plain": [
       "<Figure size 432x288 with 1 Axes>"
      ]
     },
     "metadata": {
      "tags": []
     },
     "output_type": "display_data"
    },
    {
     "data": {
      "image/png": "[encoded data removed]",
      "text/plain": [
       "<Figure size 432x288 with 1 Axes>"
      ]
     },
     "metadata": {
      "tags": []
     },
     "output_type": "display_data"
    }
   ],
   "source": [
    "x,y = sns.distplot(complete_set.Age.dropna()).get_lines()[0].get_data()\n",
    "y=y[x>0]\n",
    "x=x[x>0]\n",
    "\n",
    "fillvalues = pd.Series(data = np.random.choice(x,complete_set.Age.isnull().sum(),p=y/y.sum()), \n",
    "          index = complete_set[complete_set.Age.isnull()].index)\n",
    "\n",
    "plt.figure()\n",
    "complete_set.Age.fillna(fillvalues).hist()"
   ]
  },
  {
   "cell_type": "markdown",
   "metadata": {
    "colab_type": "text",
    "id": "WmeJZKTPN_hw"
   },
   "source": [
    "To try later: create a flag IsNull to put every row without a value for Age"
   ]
  },
  {
   "cell_type": "markdown",
   "metadata": {
    "colab_type": "text",
    "id": "Z24JuGqTN_hy"
   },
   "source": [
    "### Try a decision tree model"
   ]
  },
  {
   "cell_type": "markdown",
   "metadata": {
    "colab_type": "text",
    "id": "PtVdtWlDN_hz"
   },
   "source": [
    "#### First clean the data: remove NaNs, Label-Encode Sex, OneHotEncode Embarked  "
   ]
  },
  {
   "cell_type": "code",
   "execution_count": null,
   "metadata": {
    "colab": {
     "autoexec": {
      "startup": false,
      "wait_interval": 0
     }
    },
    "colab_type": "code",
    "id": "BGSjYwlXN_h0",
    "outputId": "587fc984-f03e-4434-801b-94448b74aa1b"
   },
   "outputs": [
    {
     "data": {
      "text/html": [
       "<div>\n",
       "<style scoped>\n",
       "    .dataframe tbody tr th:only-of-type {\n",
       "        vertical-align: middle;\n",
       "    }\n",
       "\n",
       "    .dataframe tbody tr th {\n",
       "        vertical-align: top;\n",
       "    }\n",
       "\n",
       "    .dataframe thead th {\n",
       "        text-align: right;\n",
       "    }\n",
       "</style>\n",
       "<table border=\"1\" class=\"dataframe\">\n",
       "  <thead>\n",
       "    <tr style=\"text-align: right;\">\n",
       "      <th></th>\n",
       "      <th>PassengerId</th>\n",
       "      <th>Pclass</th>\n",
       "      <th>Sex</th>\n",
       "      <th>Age</th>\n",
       "      <th>SibSp</th>\n",
       "      <th>Parch</th>\n",
       "      <th>Fare</th>\n",
       "      <th>Embarked</th>\n",
       "    </tr>\n",
       "  </thead>\n",
       "  <tbody>\n",
       "    <tr>\n",
       "      <th>5</th>\n",
       "      <td>6</td>\n",
       "      <td>3</td>\n",
       "      <td>male</td>\n",
       "      <td>NaN</td>\n",
       "      <td>0</td>\n",
       "      <td>0</td>\n",
       "      <td>8.4583</td>\n",
       "      <td>Q</td>\n",
       "    </tr>\n",
       "    <tr>\n",
       "      <th>17</th>\n",
       "      <td>18</td>\n",
       "      <td>2</td>\n",
       "      <td>male</td>\n",
       "      <td>NaN</td>\n",
       "      <td>0</td>\n",
       "      <td>0</td>\n",
       "      <td>13.0000</td>\n",
       "      <td>S</td>\n",
       "    </tr>\n",
       "    <tr>\n",
       "      <th>19</th>\n",
       "      <td>20</td>\n",
       "      <td>3</td>\n",
       "      <td>female</td>\n",
       "      <td>NaN</td>\n",
       "      <td>0</td>\n",
       "      <td>0</td>\n",
       "      <td>7.2250</td>\n",
       "      <td>C</td>\n",
       "    </tr>\n",
       "    <tr>\n",
       "      <th>26</th>\n",
       "      <td>27</td>\n",
       "      <td>3</td>\n",
       "      <td>male</td>\n",
       "      <td>NaN</td>\n",
       "      <td>0</td>\n",
       "      <td>0</td>\n",
       "      <td>7.2250</td>\n",
       "      <td>C</td>\n",
       "    </tr>\n",
       "    <tr>\n",
       "      <th>28</th>\n",
       "      <td>29</td>\n",
       "      <td>3</td>\n",
       "      <td>female</td>\n",
       "      <td>NaN</td>\n",
       "      <td>0</td>\n",
       "      <td>0</td>\n",
       "      <td>7.8792</td>\n",
       "      <td>Q</td>\n",
       "    </tr>\n",
       "  </tbody>\n",
       "</table>\n",
       "</div>"
      ],
      "text/plain": [
       "    PassengerId  Pclass     Sex  Age  SibSp  Parch     Fare Embarked\n",
       "5             6       3    male  NaN      0      0   8.4583        Q\n",
       "17           18       2    male  NaN      0      0  13.0000        S\n",
       "19           20       3  female  NaN      0      0   7.2250        C\n",
       "26           27       3    male  NaN      0      0   7.2250        C\n",
       "28           29       3  female  NaN      0      0   7.8792        Q"
      ]
     },
     "execution_count": 106,
     "metadata": {
      "tags": []
     },
     "output_type": "execute_result"
    }
   ],
   "source": [
    "complete_set[complete_set.Age.isnull()].head()"
   ]
  },
  {
   "cell_type": "code",
   "execution_count": null,
   "metadata": {
    "colab": {
     "autoexec": {
      "startup": false,
      "wait_interval": 0
     }
    },
    "colab_type": "code",
    "id": "3QyKlM65N_h9",
    "outputId": "2e163639-739f-467f-f835-113090fc061e"
   },
   "outputs": [
    {
     "data": {
      "text/html": [
       "<div>\n",
       "<style scoped>\n",
       "    .dataframe tbody tr th:only-of-type {\n",
       "        vertical-align: middle;\n",
       "    }\n",
       "\n",
       "    .dataframe tbody tr th {\n",
       "        vertical-align: top;\n",
       "    }\n",
       "\n",
       "    .dataframe thead th {\n",
       "        text-align: right;\n",
       "    }\n",
       "</style>\n",
       "<table border=\"1\" class=\"dataframe\">\n",
       "  <thead>\n",
       "    <tr style=\"text-align: right;\">\n",
       "      <th></th>\n",
       "      <th>Survived</th>\n",
       "      <th>Pclass</th>\n",
       "      <th>Sex</th>\n",
       "      <th>Age</th>\n",
       "      <th>SibSp</th>\n",
       "      <th>Parch</th>\n",
       "      <th>Fare</th>\n",
       "      <th>Embarked_in_C</th>\n",
       "      <th>Embarked_in_Null</th>\n",
       "      <th>Embarked_in_Q</th>\n",
       "      <th>Embarked_in_S</th>\n",
       "    </tr>\n",
       "  </thead>\n",
       "  <tbody>\n",
       "    <tr>\n",
       "      <th>0</th>\n",
       "      <td>0</td>\n",
       "      <td>3</td>\n",
       "      <td>1</td>\n",
       "      <td>22.0</td>\n",
       "      <td>1</td>\n",
       "      <td>0</td>\n",
       "      <td>7.2500</td>\n",
       "      <td>0</td>\n",
       "      <td>0</td>\n",
       "      <td>0</td>\n",
       "      <td>1</td>\n",
       "    </tr>\n",
       "    <tr>\n",
       "      <th>1</th>\n",
       "      <td>1</td>\n",
       "      <td>1</td>\n",
       "      <td>0</td>\n",
       "      <td>38.0</td>\n",
       "      <td>1</td>\n",
       "      <td>0</td>\n",
       "      <td>71.2833</td>\n",
       "      <td>1</td>\n",
       "      <td>0</td>\n",
       "      <td>0</td>\n",
       "      <td>0</td>\n",
       "    </tr>\n",
       "    <tr>\n",
       "      <th>2</th>\n",
       "      <td>1</td>\n",
       "      <td>3</td>\n",
       "      <td>0</td>\n",
       "      <td>26.0</td>\n",
       "      <td>0</td>\n",
       "      <td>0</td>\n",
       "      <td>7.9250</td>\n",
       "      <td>0</td>\n",
       "      <td>0</td>\n",
       "      <td>0</td>\n",
       "      <td>1</td>\n",
       "    </tr>\n",
       "    <tr>\n",
       "      <th>3</th>\n",
       "      <td>1</td>\n",
       "      <td>1</td>\n",
       "      <td>0</td>\n",
       "      <td>35.0</td>\n",
       "      <td>1</td>\n",
       "      <td>0</td>\n",
       "      <td>53.1000</td>\n",
       "      <td>0</td>\n",
       "      <td>0</td>\n",
       "      <td>0</td>\n",
       "      <td>1</td>\n",
       "    </tr>\n",
       "    <tr>\n",
       "      <th>4</th>\n",
       "      <td>0</td>\n",
       "      <td>3</td>\n",
       "      <td>1</td>\n",
       "      <td>35.0</td>\n",
       "      <td>0</td>\n",
       "      <td>0</td>\n",
       "      <td>8.0500</td>\n",
       "      <td>0</td>\n",
       "      <td>0</td>\n",
       "      <td>0</td>\n",
       "      <td>1</td>\n",
       "    </tr>\n",
       "    <tr>\n",
       "      <th>6</th>\n",
       "      <td>0</td>\n",
       "      <td>1</td>\n",
       "      <td>1</td>\n",
       "      <td>54.0</td>\n",
       "      <td>0</td>\n",
       "      <td>0</td>\n",
       "      <td>51.8625</td>\n",
       "      <td>0</td>\n",
       "      <td>0</td>\n",
       "      <td>0</td>\n",
       "      <td>1</td>\n",
       "    </tr>\n",
       "    <tr>\n",
       "      <th>7</th>\n",
       "      <td>0</td>\n",
       "      <td>3</td>\n",
       "      <td>1</td>\n",
       "      <td>2.0</td>\n",
       "      <td>3</td>\n",
       "      <td>1</td>\n",
       "      <td>21.0750</td>\n",
       "      <td>0</td>\n",
       "      <td>0</td>\n",
       "      <td>0</td>\n",
       "      <td>1</td>\n",
       "    </tr>\n",
       "    <tr>\n",
       "      <th>8</th>\n",
       "      <td>1</td>\n",
       "      <td>3</td>\n",
       "      <td>0</td>\n",
       "      <td>27.0</td>\n",
       "      <td>0</td>\n",
       "      <td>2</td>\n",
       "      <td>11.1333</td>\n",
       "      <td>0</td>\n",
       "      <td>0</td>\n",
       "      <td>0</td>\n",
       "      <td>1</td>\n",
       "    </tr>\n",
       "    <tr>\n",
       "      <th>9</th>\n",
       "      <td>1</td>\n",
       "      <td>2</td>\n",
       "      <td>0</td>\n",
       "      <td>14.0</td>\n",
       "      <td>1</td>\n",
       "      <td>0</td>\n",
       "      <td>30.0708</td>\n",
       "      <td>1</td>\n",
       "      <td>0</td>\n",
       "      <td>0</td>\n",
       "      <td>0</td>\n",
       "    </tr>\n",
       "    <tr>\n",
       "      <th>10</th>\n",
       "      <td>1</td>\n",
       "      <td>3</td>\n",
       "      <td>0</td>\n",
       "      <td>4.0</td>\n",
       "      <td>1</td>\n",
       "      <td>1</td>\n",
       "      <td>16.7000</td>\n",
       "      <td>0</td>\n",
       "      <td>0</td>\n",
       "      <td>0</td>\n",
       "      <td>1</td>\n",
       "    </tr>\n",
       "  </tbody>\n",
       "</table>\n",
       "</div>"
      ],
      "text/plain": [
       "    Survived  Pclass  Sex   Age  SibSp  Parch     Fare  Embarked_in_C  \\\n",
       "0          0       3    1  22.0      1      0   7.2500              0   \n",
       "1          1       1    0  38.0      1      0  71.2833              1   \n",
       "2          1       3    0  26.0      0      0   7.9250              0   \n",
       "3          1       1    0  35.0      1      0  53.1000              0   \n",
       "4          0       3    1  35.0      0      0   8.0500              0   \n",
       "6          0       1    1  54.0      0      0  51.8625              0   \n",
       "7          0       3    1   2.0      3      1  21.0750              0   \n",
       "8          1       3    0  27.0      0      2  11.1333              0   \n",
       "9          1       2    0  14.0      1      0  30.0708              1   \n",
       "10         1       3    0   4.0      1      1  16.7000              0   \n",
       "\n",
       "    Embarked_in_Null  Embarked_in_Q  Embarked_in_S  \n",
       "0                  0              0              1  \n",
       "1                  0              0              0  \n",
       "2                  0              0              1  \n",
       "3                  0              0              1  \n",
       "4                  0              0              1  \n",
       "6                  0              0              1  \n",
       "7                  0              0              1  \n",
       "8                  0              0              1  \n",
       "9                  0              0              0  \n",
       "10                 0              0              1  "
      ]
     },
     "execution_count": 9,
     "metadata": {
      "tags": []
     },
     "output_type": "execute_result"
    }
   ],
   "source": [
    "train_clean = train.copy()\n",
    "test_clean = test.copy()\n",
    "le_Sex = preprocessing.LabelEncoder()\n",
    "train_clean[\"Sex\"] = le_Sex.fit_transform(train.Sex)\n",
    "test_clean[\"Sex\"] = le_Sex.transform(test.Sex)\n",
    "\n",
    "le_Embarked = preprocessing.LabelEncoder()\n",
    "OHE_Embarked = preprocessing.OneHotEncoder()\n",
    "\n",
    "embarked_num = le_Embarked.fit_transform(train.Embarked.fillna(\"Null\")).reshape(-1,1)\n",
    "embarked_num_test = le_Embarked.transform(test.Embarked.fillna(\"Null\")).reshape(-1,1)\n",
    "\n",
    "embarked_ohe_train = pd.DataFrame(OHE_Embarked.fit_transform(embarked_num).toarray(), dtype=int, columns = \"Embarked_in_\" + le_Embarked.classes_)\n",
    "embarked_ohe_test = pd.DataFrame(OHE_Embarked.transform(embarked_num_test).toarray(), dtype=int, columns = \"Embarked_in_\" + le_Embarked.classes_)\n",
    "\n",
    "train_clean = pd.concat([train_clean.drop([\"Embarked\",\"PassengerId\"],1), embarked_ohe_train],1).dropna()\n",
    "test_clean = pd.concat([test_clean.drop([\"Embarked\",\"PassengerId\"],1), embarked_ohe_test],1)\n",
    "test_clean[\"Age\"] = test_clean.Age.fillna(train_clean.Age.mean())\n",
    "test_clean[\"Fare\"] = test_clean.Fare.fillna(train_clean.Fare.median())\n",
    "train_clean.head(10)"
   ]
  },
  {
   "cell_type": "code",
   "execution_count": null,
   "metadata": {
    "colab": {
     "autoexec": {
      "startup": false,
      "wait_interval": 0
     }
    },
    "colab_type": "code",
    "id": "evMZf3PCN_iF",
    "outputId": "e91a885a-ee87-4dfe-b51e-9d8fcb991071"
   },
   "outputs": [
    {
     "data": {
      "text/html": [
       "<div>\n",
       "<style scoped>\n",
       "    .dataframe tbody tr th:only-of-type {\n",
       "        vertical-align: middle;\n",
       "    }\n",
       "\n",
       "    .dataframe tbody tr th {\n",
       "        vertical-align: top;\n",
       "    }\n",
       "\n",
       "    .dataframe thead th {\n",
       "        text-align: right;\n",
       "    }\n",
       "</style>\n",
       "<table border=\"1\" class=\"dataframe\">\n",
       "  <thead>\n",
       "    <tr style=\"text-align: right;\">\n",
       "      <th></th>\n",
       "      <th>Pclass</th>\n",
       "      <th>Sex</th>\n",
       "      <th>Age</th>\n",
       "      <th>SibSp</th>\n",
       "      <th>Parch</th>\n",
       "      <th>Fare</th>\n",
       "      <th>Embarked_in_C</th>\n",
       "      <th>Embarked_in_Null</th>\n",
       "      <th>Embarked_in_Q</th>\n",
       "      <th>Embarked_in_S</th>\n",
       "    </tr>\n",
       "  </thead>\n",
       "  <tbody>\n",
       "    <tr>\n",
       "      <th>count</th>\n",
       "      <td>418.000000</td>\n",
       "      <td>418.000000</td>\n",
       "      <td>418.000000</td>\n",
       "      <td>418.000000</td>\n",
       "      <td>418.000000</td>\n",
       "      <td>418.000000</td>\n",
       "      <td>418.000000</td>\n",
       "      <td>418.0</td>\n",
       "      <td>418.000000</td>\n",
       "      <td>418.000000</td>\n",
       "    </tr>\n",
       "    <tr>\n",
       "      <th>mean</th>\n",
       "      <td>2.265550</td>\n",
       "      <td>0.636364</td>\n",
       "      <td>30.154603</td>\n",
       "      <td>0.447368</td>\n",
       "      <td>0.392344</td>\n",
       "      <td>35.624957</td>\n",
       "      <td>0.244019</td>\n",
       "      <td>0.0</td>\n",
       "      <td>0.110048</td>\n",
       "      <td>0.645933</td>\n",
       "    </tr>\n",
       "    <tr>\n",
       "      <th>std</th>\n",
       "      <td>0.841838</td>\n",
       "      <td>0.481622</td>\n",
       "      <td>12.636666</td>\n",
       "      <td>0.896760</td>\n",
       "      <td>0.981429</td>\n",
       "      <td>55.840519</td>\n",
       "      <td>0.430019</td>\n",
       "      <td>0.0</td>\n",
       "      <td>0.313324</td>\n",
       "      <td>0.478803</td>\n",
       "    </tr>\n",
       "    <tr>\n",
       "      <th>min</th>\n",
       "      <td>1.000000</td>\n",
       "      <td>0.000000</td>\n",
       "      <td>0.170000</td>\n",
       "      <td>0.000000</td>\n",
       "      <td>0.000000</td>\n",
       "      <td>0.000000</td>\n",
       "      <td>0.000000</td>\n",
       "      <td>0.0</td>\n",
       "      <td>0.000000</td>\n",
       "      <td>0.000000</td>\n",
       "    </tr>\n",
       "    <tr>\n",
       "      <th>25%</th>\n",
       "      <td>1.000000</td>\n",
       "      <td>0.000000</td>\n",
       "      <td>23.000000</td>\n",
       "      <td>0.000000</td>\n",
       "      <td>0.000000</td>\n",
       "      <td>7.895800</td>\n",
       "      <td>0.000000</td>\n",
       "      <td>0.0</td>\n",
       "      <td>0.000000</td>\n",
       "      <td>0.000000</td>\n",
       "    </tr>\n",
       "    <tr>\n",
       "      <th>50%</th>\n",
       "      <td>3.000000</td>\n",
       "      <td>1.000000</td>\n",
       "      <td>29.699118</td>\n",
       "      <td>0.000000</td>\n",
       "      <td>0.000000</td>\n",
       "      <td>14.454200</td>\n",
       "      <td>0.000000</td>\n",
       "      <td>0.0</td>\n",
       "      <td>0.000000</td>\n",
       "      <td>1.000000</td>\n",
       "    </tr>\n",
       "    <tr>\n",
       "      <th>75%</th>\n",
       "      <td>3.000000</td>\n",
       "      <td>1.000000</td>\n",
       "      <td>35.750000</td>\n",
       "      <td>1.000000</td>\n",
       "      <td>0.000000</td>\n",
       "      <td>31.500000</td>\n",
       "      <td>0.000000</td>\n",
       "      <td>0.0</td>\n",
       "      <td>0.000000</td>\n",
       "      <td>1.000000</td>\n",
       "    </tr>\n",
       "    <tr>\n",
       "      <th>max</th>\n",
       "      <td>3.000000</td>\n",
       "      <td>1.000000</td>\n",
       "      <td>76.000000</td>\n",
       "      <td>8.000000</td>\n",
       "      <td>9.000000</td>\n",
       "      <td>512.329200</td>\n",
       "      <td>1.000000</td>\n",
       "      <td>0.0</td>\n",
       "      <td>1.000000</td>\n",
       "      <td>1.000000</td>\n",
       "    </tr>\n",
       "  </tbody>\n",
       "</table>\n",
       "</div>"
      ],
      "text/plain": [
       "           Pclass         Sex         Age       SibSp       Parch        Fare  \\\n",
       "count  418.000000  418.000000  418.000000  418.000000  418.000000  418.000000   \n",
       "mean     2.265550    0.636364   30.154603    0.447368    0.392344   35.624957   \n",
       "std      0.841838    0.481622   12.636666    0.896760    0.981429   55.840519   \n",
       "min      1.000000    0.000000    0.170000    0.000000    0.000000    0.000000   \n",
       "25%      1.000000    0.000000   23.000000    0.000000    0.000000    7.895800   \n",
       "50%      3.000000    1.000000   29.699118    0.000000    0.000000   14.454200   \n",
       "75%      3.000000    1.000000   35.750000    1.000000    0.000000   31.500000   \n",
       "max      3.000000    1.000000   76.000000    8.000000    9.000000  512.329200   \n",
       "\n",
       "       Embarked_in_C  Embarked_in_Null  Embarked_in_Q  Embarked_in_S  \n",
       "count     418.000000             418.0     418.000000     418.000000  \n",
       "mean        0.244019               0.0       0.110048       0.645933  \n",
       "std         0.430019               0.0       0.313324       0.478803  \n",
       "min         0.000000               0.0       0.000000       0.000000  \n",
       "25%         0.000000               0.0       0.000000       0.000000  \n",
       "50%         0.000000               0.0       0.000000       1.000000  \n",
       "75%         0.000000               0.0       0.000000       1.000000  \n",
       "max         1.000000               0.0       1.000000       1.000000  "
      ]
     },
     "execution_count": 10,
     "metadata": {
      "tags": []
     },
     "output_type": "execute_result"
    }
   ],
   "source": [
    "test_clean.describe()"
   ]
  },
  {
   "cell_type": "markdown",
   "metadata": {
    "colab_type": "text",
    "id": "oe_xLFANN_iP"
   },
   "source": [
    "### Experiment Decision trees\n",
    "to remember [https://en.wikipedia.org/wiki/Precision_and_recall#Definition_(classification_context)]:\n",
    "* Accuracy: % of Guesses that were right = (TP + TN)/All\n",
    "* Recall: % of Real Positives Guessed correctly = TP/(TP + FN)\n",
    "* Precision: % of Guessed Positives which are correct = TP/(TP + FP)"
   ]
  },
  {
   "cell_type": "code",
   "execution_count": 14,
   "metadata": {},
   "outputs": [],
   "source": [
    "def eval_model(y, pred):\n",
    "    r2 = r2_score(y, pred)\n",
    "    acc = accuracy_score(y, pred)\n",
    "    prec = precision_score(y, pred)\n",
    "    rec = recall_score(y, pred)\n",
    "    f1 = f1_score(y, pred)\n",
    "    cm = confusion_matrix(y, pred)\n",
    "    cm_df = pd.DataFrame(cm/cm.sum(), columns = (\"Pred=0\", \"Pred=1\"), index = (\"y=0\", \"y=1\")).round(2)\n",
    "    print(\"R2:\\t\\t{0:.3}\\nAccuracy:\\t{1:.3}\\nPrecision:\\t{2:.3}\\nRecall:\\t\\t{3:.3}\\nF1:\\t\\t{4:.3}\".format(r2,acc,prec,rec,f1))\n",
    "    print(\"Confusion matrix:\\n\" , cm_df,\"\\n\\n\")\n",
    "    return prec, rec"
   ]
  },
  {
   "cell_type": "code",
   "execution_count": null,
   "metadata": {
    "colab": {
     "autoexec": {
      "startup": false,
      "wait_interval": 0
     }
    },
    "colab_type": "code",
    "id": "cySyRyltN_iR"
   },
   "outputs": [],
   "source": [
    "X=train_clean.drop([\"Survived\"],1).values\n",
    "y=train_clean.Survived.values\n",
    "\n",
    "X_train, X_test, y_train, y_test = train_test_split(X, y, test_size = 0.1)"
   ]
  },
  {
   "cell_type": "code",
   "execution_count": null,
   "metadata": {
    "colab": {
     "autoexec": {
      "startup": false,
      "wait_interval": 0
     }
    },
    "colab_type": "code",
    "id": "17j7qYGKN_iW",
    "outputId": "f0aab883-4680-4f1f-b80e-f7231bc91c0a"
   },
   "outputs": [
    {
     "name": "stdout",
     "output_type": "stream",
     "text": [
      "R2:\t\t0.941\n",
      "Accuracy:\t0.986\n",
      "Precision:\t1.0\n",
      "Recall:\t\t0.964\n",
      "F1:\t\t0.982\n",
      "Confusion matrix:\n",
      "      Pred=0  Pred=1\n",
      "y=0    0.61    0.00\n",
      "y=1    0.01    0.38 \n",
      "\n",
      "\n",
      "R2:\t\t0.108\n",
      "Accuracy:\t0.778\n",
      "Precision:\t0.867\n",
      "Recall:\t\t0.684\n",
      "F1:\t\t0.765\n",
      "Confusion matrix:\n",
      "      Pred=0  Pred=1\n",
      "y=0    0.42    0.06\n",
      "y=1    0.17    0.36 \n",
      "\n",
      "\n"
     ]
    },
    {
     "data": {
      "text/plain": [
       "(0.8666666666666667, 0.6842105263157895)"
      ]
     },
     "execution_count": 29,
     "metadata": {
      "tags": []
     },
     "output_type": "execute_result"
    }
   ],
   "source": [
    "model1 = tree.DecisionTreeClassifier(min_samples_leaf=1e-6)\n",
    "model1.fit(X_train,y_train)\n",
    "print(\"Train set\")\n",
    "eval_model(y_train, model1.predict(X_train))\n",
    "print(\"Test set\")\n",
    "eval_model(y_test, model1.predict(X_test))"
   ]
  },
  {
   "cell_type": "markdown",
   "metadata": {
    "colab_type": "text",
    "id": "P47Qq-OQN_iZ"
   },
   "source": [
    "### With cross validation"
   ]
  },
  {
   "cell_type": "code",
   "execution_count": null,
   "metadata": {
    "colab": {
     "autoexec": {
      "startup": false,
      "wait_interval": 0
     }
    },
    "colab_type": "code",
    "id": "GGOO05x6N_id",
    "outputId": "dcbcbe71-9622-48a3-b02e-1fad582e3b5b"
   },
   "outputs": [
    {
     "data": {
      "text/plain": [
       "(0.7717236427611315, 0.004469190203640118)"
      ]
     },
     "execution_count": 107,
     "metadata": {
      "tags": []
     },
     "output_type": "execute_result"
    }
   ],
   "source": [
    "def get_acc(model, X, y, scorer):\n",
    "    v = cross_val_score(model, X, y, scoring = scorer)\n",
    "    #print(\"{0:.3} +- {1:.3}\".format(v.mean(), v.std()))\n",
    "    return (v.mean(), v.std())\n",
    "get_acc(model1, X, y, 'accuracy')"
   ]
  },
  {
   "cell_type": "code",
   "execution_count": null,
   "metadata": {
    "colab": {
     "autoexec": {
      "startup": false,
      "wait_interval": 0
     }
    },
    "colab_type": "code",
    "id": "TCDd1ccXN_ih",
    "outputId": "9aac88a3-5480-4b35-efda-b96f4213026f"
   },
   "outputs": [
    {
     "data": {
      "image/png": "[encoded data removed]",
      "text/plain": [
       "<Figure size 432x288 with 1 Axes>"
      ]
     },
     "metadata": {
      "tags": []
     },
     "output_type": "display_data"
    }
   ],
   "source": [
    "def find_best_par_value(get_model, list_par_values):\n",
    "    mean_acc = []\n",
    "\n",
    "    for par_value in list_par_values:\n",
    "        temp_model = get_model(par_value)\n",
    "        mean_acc.append(get_acc(temp_model, X, y, 'accuracy'))\n",
    "    plt.figure()\n",
    "    mean_acc = np.array(mean_acc)\n",
    "    \n",
    "    plt.plot(list_par_values, mean_acc[:,0])\n",
    "    plt.fill_between(list_par_values, mean_acc[:,0] - mean_acc[:,1], mean_acc[:,0] + mean_acc[:,1], alpha=0.25)\n",
    "    return np.array(mean_acc)\n",
    "    \n",
    "acc=find_best_par_value(lambda x: tree.DecisionTreeClassifier(min_samples_leaf=x), np.linspace(0.001,0.03))"
   ]
  },
  {
   "cell_type": "code",
   "execution_count": null,
   "metadata": {
    "colab": {
     "autoexec": {
      "startup": false,
      "wait_interval": 0
     }
    },
    "colab_type": "code",
    "id": "XSU1B2MSN_il",
    "outputId": "8b7976f0-da83-43ac-90e6-c7a9dbe876cd"
   },
   "outputs": [
    {
     "data": {
      "image/png": "[encoded data removed]",
      "text/plain": [
       "<Figure size 432x288 with 1 Axes>"
      ]
     },
     "metadata": {
      "tags": []
     },
     "output_type": "display_data"
    }
   ],
   "source": [
    "acc=find_best_par_value(lambda x: tree.DecisionTreeClassifier(min_samples_leaf=0.015, max_depth = x), np.linspace(1,10))"
   ]
  },
  {
   "cell_type": "code",
   "execution_count": null,
   "metadata": {
    "colab": {
     "autoexec": {
      "startup": false,
      "wait_interval": 0
     }
    },
    "colab_type": "code",
    "id": "MlcaVkHRN_ip",
    "outputId": "6781673f-43c7-484d-f81e-03a9bdf7e4e7"
   },
   "outputs": [
    {
     "data": {
      "image/png": "[encoded data removed]",
      "text/plain": [
       "<Figure size 432x288 with 1 Axes>"
      ]
     },
     "metadata": {
      "tags": []
     },
     "output_type": "display_data"
    }
   ],
   "source": [
    "acc=find_best_par_value(\n",
    "    lambda x: tree.DecisionTreeClassifier(\n",
    "        min_impurity_decrease = x\n",
    "        ), \n",
    "    np.linspace(0,.02))"
   ]
  },
  {
   "cell_type": "markdown",
   "metadata": {
    "colab_type": "text",
    "id": "bcnhV9h6N_it"
   },
   "source": [
    "Hence mean_lif_size should be around 0.015"
   ]
  },
  {
   "cell_type": "markdown",
   "metadata": {
    "colab_type": "text",
    "id": "TQBHpJkAN_iu"
   },
   "source": [
    "## At last: Generate and export prediction given by the best model"
   ]
  },
  {
   "cell_type": "code",
   "execution_count": null,
   "metadata": {
    "colab": {
     "autoexec": {
      "startup": false,
      "wait_interval": 0
     }
    },
    "colab_type": "code",
    "id": "vxbGzPcqN_iv"
   },
   "outputs": [],
   "source": [
    "final_model = tree.DecisionTreeClassifier(min_impurity_decrease = 0.0025).fit(X,y)\n",
    "pred_df = test.copy()\n",
    "\n",
    "pred_df[\"Survived\"] = final_model.predict(test_clean)\n",
    "pred_df = pred_df[[\"PassengerId\", \"Survived\"]]\n",
    "pred_df.head()\n",
    "pred_df.to_csv(\"pred_dec_tree1.csv\",index=False)"
   ]
  },
  {
   "cell_type": "markdown",
   "metadata": {
    "colab_type": "text",
    "id": "nICg1m1sN_ix"
   },
   "source": [
    "### Print decision tree"
   ]
  },
  {
   "cell_type": "code",
   "execution_count": null,
   "metadata": {
    "colab": {
     "autoexec": {
      "startup": false,
      "wait_interval": 0
     }
    },
    "colab_type": "code",
    "id": "iQRpRsMwN_iy",
    "outputId": "e72a64e8-7fb5-45ba-e512-304045184734"
   },
   "outputs": [
    {
     "data": {
      "text/plain": [
       "'./dec_tree_min_leaf_size_5.pdf'"
      ]
     },
     "execution_count": 102,
     "metadata": {
      "tags": []
     },
     "output_type": "execute_result"
    }
   ],
   "source": [
    "dot_data = tree.export_graphviz(final_model, out_file=None, \n",
    "                         feature_names=train_clean.drop([\"Survived\"],1).columns,\n",
    "                         filled=True, rounded=True,  \n",
    "                         special_characters=True)  \n",
    "graph = graphviz.Source(dot_data)\n",
    "graph.render('./dec_tree_min_leaf_size_5', view=True)"
   ]
  },
  {
   "cell_type": "markdown",
   "metadata": {
    "colab": {
     "autoexec": {
      "startup": false,
      "wait_interval": 0
     }
    },
    "colab_type": "code",
    "id": "vkYb6z7_N_i1"
   },
   "source": [
    "## Although we keep getting accuracies up to 0.86 when making a submission in kaggle the score is much lower!\n",
    "A possible explanation: here we're calculating accuracy after dropping the NaN Ages while to do the submission we're replacing them by the mean.\n",
    "This indicates that the age is a very important feature for predicting survival.\n",
    "## Hence we need a better way to treat missing age values in the test set\n",
    "### Two possible solutions: \n",
    "1. Treat missing ages as a separate value (-10 for example)\n",
    "2. Create a model to predict age\n",
    "\n",
    "## 1."
   ]
  },
  {
   "cell_type": "code",
   "execution_count": 78,
   "metadata": {},
   "outputs": [
    {
     "data": {
      "text/html": [
       "<div>\n",
       "<style scoped>\n",
       "    .dataframe tbody tr th:only-of-type {\n",
       "        vertical-align: middle;\n",
       "    }\n",
       "\n",
       "    .dataframe tbody tr th {\n",
       "        vertical-align: top;\n",
       "    }\n",
       "\n",
       "    .dataframe thead th {\n",
       "        text-align: right;\n",
       "    }\n",
       "</style>\n",
       "<table border=\"1\" class=\"dataframe\">\n",
       "  <thead>\n",
       "    <tr style=\"text-align: right;\">\n",
       "      <th></th>\n",
       "      <th>Survived</th>\n",
       "      <th>Pclass</th>\n",
       "      <th>Sex</th>\n",
       "      <th>Age</th>\n",
       "      <th>SibSp</th>\n",
       "      <th>Parch</th>\n",
       "      <th>Fare</th>\n",
       "      <th>Embarked_in_C</th>\n",
       "      <th>Embarked_in_Null</th>\n",
       "      <th>Embarked_in_Q</th>\n",
       "      <th>Embarked_in_S</th>\n",
       "    </tr>\n",
       "  </thead>\n",
       "  <tbody>\n",
       "    <tr>\n",
       "      <th>0</th>\n",
       "      <td>0</td>\n",
       "      <td>3</td>\n",
       "      <td>1</td>\n",
       "      <td>22.0</td>\n",
       "      <td>1</td>\n",
       "      <td>0</td>\n",
       "      <td>7.2500</td>\n",
       "      <td>0</td>\n",
       "      <td>0</td>\n",
       "      <td>0</td>\n",
       "      <td>1</td>\n",
       "    </tr>\n",
       "    <tr>\n",
       "      <th>1</th>\n",
       "      <td>1</td>\n",
       "      <td>1</td>\n",
       "      <td>0</td>\n",
       "      <td>38.0</td>\n",
       "      <td>1</td>\n",
       "      <td>0</td>\n",
       "      <td>71.2833</td>\n",
       "      <td>1</td>\n",
       "      <td>0</td>\n",
       "      <td>0</td>\n",
       "      <td>0</td>\n",
       "    </tr>\n",
       "    <tr>\n",
       "      <th>2</th>\n",
       "      <td>1</td>\n",
       "      <td>3</td>\n",
       "      <td>0</td>\n",
       "      <td>26.0</td>\n",
       "      <td>0</td>\n",
       "      <td>0</td>\n",
       "      <td>7.9250</td>\n",
       "      <td>0</td>\n",
       "      <td>0</td>\n",
       "      <td>0</td>\n",
       "      <td>1</td>\n",
       "    </tr>\n",
       "    <tr>\n",
       "      <th>3</th>\n",
       "      <td>1</td>\n",
       "      <td>1</td>\n",
       "      <td>0</td>\n",
       "      <td>35.0</td>\n",
       "      <td>1</td>\n",
       "      <td>0</td>\n",
       "      <td>53.1000</td>\n",
       "      <td>0</td>\n",
       "      <td>0</td>\n",
       "      <td>0</td>\n",
       "      <td>1</td>\n",
       "    </tr>\n",
       "    <tr>\n",
       "      <th>4</th>\n",
       "      <td>0</td>\n",
       "      <td>3</td>\n",
       "      <td>1</td>\n",
       "      <td>35.0</td>\n",
       "      <td>0</td>\n",
       "      <td>0</td>\n",
       "      <td>8.0500</td>\n",
       "      <td>0</td>\n",
       "      <td>0</td>\n",
       "      <td>0</td>\n",
       "      <td>1</td>\n",
       "    </tr>\n",
       "    <tr>\n",
       "      <th>5</th>\n",
       "      <td>0</td>\n",
       "      <td>3</td>\n",
       "      <td>1</td>\n",
       "      <td>-10.0</td>\n",
       "      <td>0</td>\n",
       "      <td>0</td>\n",
       "      <td>8.4583</td>\n",
       "      <td>0</td>\n",
       "      <td>0</td>\n",
       "      <td>1</td>\n",
       "      <td>0</td>\n",
       "    </tr>\n",
       "    <tr>\n",
       "      <th>6</th>\n",
       "      <td>0</td>\n",
       "      <td>1</td>\n",
       "      <td>1</td>\n",
       "      <td>54.0</td>\n",
       "      <td>0</td>\n",
       "      <td>0</td>\n",
       "      <td>51.8625</td>\n",
       "      <td>0</td>\n",
       "      <td>0</td>\n",
       "      <td>0</td>\n",
       "      <td>1</td>\n",
       "    </tr>\n",
       "    <tr>\n",
       "      <th>7</th>\n",
       "      <td>0</td>\n",
       "      <td>3</td>\n",
       "      <td>1</td>\n",
       "      <td>2.0</td>\n",
       "      <td>3</td>\n",
       "      <td>1</td>\n",
       "      <td>21.0750</td>\n",
       "      <td>0</td>\n",
       "      <td>0</td>\n",
       "      <td>0</td>\n",
       "      <td>1</td>\n",
       "    </tr>\n",
       "    <tr>\n",
       "      <th>8</th>\n",
       "      <td>1</td>\n",
       "      <td>3</td>\n",
       "      <td>0</td>\n",
       "      <td>27.0</td>\n",
       "      <td>0</td>\n",
       "      <td>2</td>\n",
       "      <td>11.1333</td>\n",
       "      <td>0</td>\n",
       "      <td>0</td>\n",
       "      <td>0</td>\n",
       "      <td>1</td>\n",
       "    </tr>\n",
       "    <tr>\n",
       "      <th>9</th>\n",
       "      <td>1</td>\n",
       "      <td>2</td>\n",
       "      <td>0</td>\n",
       "      <td>14.0</td>\n",
       "      <td>1</td>\n",
       "      <td>0</td>\n",
       "      <td>30.0708</td>\n",
       "      <td>1</td>\n",
       "      <td>0</td>\n",
       "      <td>0</td>\n",
       "      <td>0</td>\n",
       "    </tr>\n",
       "  </tbody>\n",
       "</table>\n",
       "</div>"
      ],
      "text/plain": [
       "   Survived  Pclass  Sex   Age  SibSp  Parch     Fare  Embarked_in_C  \\\n",
       "0         0       3    1  22.0      1      0   7.2500              0   \n",
       "1         1       1    0  38.0      1      0  71.2833              1   \n",
       "2         1       3    0  26.0      0      0   7.9250              0   \n",
       "3         1       1    0  35.0      1      0  53.1000              0   \n",
       "4         0       3    1  35.0      0      0   8.0500              0   \n",
       "5         0       3    1 -10.0      0      0   8.4583              0   \n",
       "6         0       1    1  54.0      0      0  51.8625              0   \n",
       "7         0       3    1   2.0      3      1  21.0750              0   \n",
       "8         1       3    0  27.0      0      2  11.1333              0   \n",
       "9         1       2    0  14.0      1      0  30.0708              1   \n",
       "\n",
       "   Embarked_in_Null  Embarked_in_Q  Embarked_in_S  \n",
       "0                 0              0              1  \n",
       "1                 0              0              0  \n",
       "2                 0              0              1  \n",
       "3                 0              0              1  \n",
       "4                 0              0              1  \n",
       "5                 0              1              0  \n",
       "6                 0              0              1  \n",
       "7                 0              0              1  \n",
       "8                 0              0              1  \n",
       "9                 0              0              0  "
      ]
     },
     "execution_count": 78,
     "metadata": {},
     "output_type": "execute_result"
    }
   ],
   "source": [
    "train_clean2 = train.copy()\n",
    "test_clean2 = test.copy()\n",
    "le_Sex = preprocessing.LabelEncoder()\n",
    "train_clean2[\"Sex\"] = le_Sex.fit_transform(train.Sex)\n",
    "test_clean2[\"Sex\"] = le_Sex.transform(test.Sex)\n",
    "\n",
    "le_Embarked = preprocessing.LabelEncoder()\n",
    "OHE_Embarked = preprocessing.OneHotEncoder()\n",
    "\n",
    "embarked_num = le_Embarked.fit_transform(train.Embarked.fillna(\"Null\")).reshape(-1,1)\n",
    "embarked_num_test = le_Embarked.transform(test.Embarked.fillna(\"Null\")).reshape(-1,1)\n",
    "\n",
    "embarked_ohe_train = pd.DataFrame(OHE_Embarked.fit_transform(embarked_num).toarray(), dtype=int, columns = \"Embarked_in_\" + le_Embarked.classes_)\n",
    "embarked_ohe_test = pd.DataFrame(OHE_Embarked.transform(embarked_num_test).toarray(), dtype=int, columns = \"Embarked_in_\" + le_Embarked.classes_)\n",
    "\n",
    "train_clean2 = pd.concat([train_clean2.drop([\"Embarked\",\"PassengerId\"],1), embarked_ohe_train],1)\n",
    "train_clean2[\"Age\"].fillna(-10, inplace = True)\n",
    "\n",
    "test_clean2 = pd.concat([test_clean2.drop([\"Embarked\",\"PassengerId\"],1), embarked_ohe_test],1)\n",
    "test_clean2.Age.fillna(-10, inplace = True)\n",
    "test_clean2[\"Fare\"].fillna(train_clean2.Fare.median(), inplace = True)\n",
    "train_clean2.head(10)"
   ]
  },
  {
   "cell_type": "code",
   "execution_count": 79,
   "metadata": {},
   "outputs": [],
   "source": [
    "X=train_clean2.drop([\"Survived\"],1).values\n",
    "y=train_clean2.Survived.values\n",
    "\n",
    "X_train, X_test, y_train, y_test = train_test_split(X, y, test_size = 0.1)"
   ]
  },
  {
   "cell_type": "code",
   "execution_count": 80,
   "metadata": {},
   "outputs": [
    {
     "name": "stdout",
     "output_type": "stream",
     "text": [
      "Train set\n",
      "R2:\t\t0.423\n",
      "Accuracy:\t0.863\n",
      "Precision:\t0.859\n",
      "Recall:\t\t0.776\n",
      "F1:\t\t0.815\n",
      "Confusion matrix:\n",
      "      Pred=0  Pred=1\n",
      "y=0    0.56    0.05\n",
      "y=1    0.09    0.30 \n",
      "\n",
      "\n",
      "Test set\n",
      "R2:\t\t0.186\n",
      "Accuracy:\t0.822\n",
      "Precision:\t0.697\n",
      "Recall:\t\t0.793\n",
      "F1:\t\t0.742\n",
      "Confusion matrix:\n",
      "      Pred=0  Pred=1\n",
      "y=0    0.57    0.11\n",
      "y=1    0.07    0.26 \n",
      "\n",
      "\n"
     ]
    },
    {
     "data": {
      "text/plain": [
       "(0.696969696969697, 0.7931034482758621)"
      ]
     },
     "execution_count": 80,
     "metadata": {},
     "output_type": "execute_result"
    }
   ],
   "source": [
    "model1 = tree.DecisionTreeClassifier(min_samples_leaf=0.0105)\n",
    "model1.fit(X_train,y_train)\n",
    "print(\"Train set\")\n",
    "eval_model(y_train, model1.predict(X_train))\n",
    "print(\"Test set\")\n",
    "eval_model(y_test, model1.predict(X_test))"
   ]
  },
  {
   "cell_type": "code",
   "execution_count": 81,
   "metadata": {},
   "outputs": [],
   "source": [
    "final_model2 = tree.DecisionTreeClassifier(min_samples_leaf = 0.0105).fit(X,y)\n",
    "pred_df = test.copy()\n",
    "\n",
    "pred_df[\"Survived\"] = final_model2.predict(test_clean2)\n",
    "pred_df = pred_df[[\"PassengerId\", \"Survived\"]]\n",
    "pred_df.head()\n",
    "pred_df.to_csv(\"pred_dec_tree_sepNan.csv\",index=False)"
   ]
  },
  {
   "cell_type": "markdown",
   "metadata": {},
   "source": [
    "This submission resulted in the following score: 0.75119"
   ]
  },
  {
   "cell_type": "markdown",
   "metadata": {},
   "source": [
    "### Bonus: Random Forest"
   ]
  },
  {
   "cell_type": "code",
   "execution_count": 96,
   "metadata": {},
   "outputs": [
    {
     "name": "stdout",
     "output_type": "stream",
     "text": [
      "Train set\n",
      "R2:\t\t0.837\n",
      "Accuracy:\t0.961\n",
      "Precision:\t0.98\n",
      "Recall:\t\t0.92\n",
      "F1:\t\t0.949\n",
      "Confusion matrix:\n",
      "      Pred=0  Pred=1\n",
      "y=0    0.60    0.01\n",
      "y=1    0.03    0.36 \n",
      "\n",
      "\n",
      "Test set\n",
      "R2:\t\t0.186\n",
      "Accuracy:\t0.822\n",
      "Precision:\t0.686\n",
      "Recall:\t\t0.828\n",
      "F1:\t\t0.75\n",
      "Confusion matrix:\n",
      "      Pred=0  Pred=1\n",
      "y=0    0.56    0.12\n",
      "y=1    0.06    0.27 \n",
      "\n",
      "\n"
     ]
    },
    {
     "data": {
      "text/plain": [
       "(0.6857142857142857, 0.8275862068965517)"
      ]
     },
     "execution_count": 96,
     "metadata": {},
     "output_type": "execute_result"
    }
   ],
   "source": [
    "model = RandomForestClassifier(n_estimators=10)\n",
    "\n",
    "model.fit(X_train,y_train)\n",
    "print(\"Train set\")\n",
    "eval_model(y_train, model.predict(X_train))\n",
    "print(\"Test set\")\n",
    "eval_model(y_test, model.predict(X_test))"
   ]
  },
  {
   "cell_type": "code",
   "execution_count": 86,
   "metadata": {},
   "outputs": [],
   "source": [
    "final_model3 = RandomForestClassifier().fit(X,y)\n",
    "pred_df = test.copy()\n",
    "\n",
    "pred_df[\"Survived\"] = final_model3.predict(test_clean2)\n",
    "pred_df = pred_df[[\"PassengerId\", \"Survived\"]]\n",
    "pred_df.to_csv(\"pred_random_tree_sepNan.csv\",index=False)"
   ]
  },
  {
   "cell_type": "markdown",
   "metadata": {},
   "source": [
    "This submission resulted in the following score: 0.78468"
   ]
  }
 ],
 "metadata": {
  "colab": {
   "default_view": {},
   "name": "Untitled1.ipynb",
   "provenance": [],
   "version": "0.3.2",
   "views": {}
  },
  "kernelspec": {
   "display_name": "Python 3",
   "language": "python",
   "name": "python3"
  },
  "language_info": {
   "codemirror_mode": {
    "name": "ipython",
    "version": 3
   },
   "file_extension": ".py",
   "mimetype": "text/x-python",
   "name": "python",
   "nbconvert_exporter": "python",
   "pygments_lexer": "ipython3",
   "version": "3.6.5"
  }
 },
 "nbformat": 4,
 "nbformat_minor": 2
}
