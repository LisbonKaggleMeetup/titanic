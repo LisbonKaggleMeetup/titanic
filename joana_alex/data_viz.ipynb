{
 "cells": [
  {
   "cell_type": "markdown",
   "metadata": {
    "colab_type": "text",
    "id": "V2CMUgqHbea0"
   },
   "source": [
    "# Kaggle - Titanic Dataset"
   ]
  },
  {
   "cell_type": "markdown",
   "metadata": {
    "colab_type": "text",
    "id": "9nfRqfGibyRS"
   },
   "source": [
    "##Data Viz"
   ]
  },
  {
   "cell_type": "markdown",
   "metadata": {
    "colab_type": "text",
    "id": "3jCKsn122pG7"
   },
   "source": [
    "## Data Exploration"
   ]
  },
  {
   "cell_type": "markdown",
   "metadata": {
    "colab_type": "text",
    "id": "gjgYmUUj2gW5"
   },
   "source": [
    "#### Import libraries and datasets"
   ]
  },
  {
   "cell_type": "code",
   "execution_count": 18,
   "metadata": {
    "colab": {
     "autoexec": {
      "startup": false,
      "wait_interval": 0
     }
    },
    "colab_type": "code",
    "collapsed": true,
    "id": "65CuYMDH11If"
   },
   "outputs": [],
   "source": [
    "import pandas as pd\n",
    "import numpy as np\n",
    "from matplotlib import pyplot as plt\n",
    "import seaborn as sns"
   ]
  },
  {
   "cell_type": "code",
   "execution_count": 19,
   "metadata": {
    "colab": {
     "autoexec": {
      "startup": false,
      "wait_interval": 0
     }
    },
    "colab_type": "code",
    "collapsed": true,
    "id": "N6YHZDD515cD"
   },
   "outputs": [],
   "source": [
    "try:\n",
    "    train = pd.read_csv('input/train.csv')\n",
    "    test = pd.read_csv('input/test.csv')\n",
    "except FileNotFoundError:\n",
    "    print(\"ERROR: You should put train.csv and test.csv files in the folder called input\")"
   ]
  },
  {
   "cell_type": "markdown",
   "metadata": {
    "colab_type": "text",
    "id": "bkeAmhDP2zUn"
   },
   "source": [
    "#### Explore the training set"
   ]
  },
  {
   "cell_type": "code",
   "execution_count": 20,
   "metadata": {
    "colab": {
     "autoexec": {
      "startup": false,
      "wait_interval": 0
     },
     "base_uri": "https://localhost:8080/",
     "height": 204
    },
    "colab_type": "code",
    "collapsed": false,
    "executionInfo": {
     "elapsed": 513,
     "status": "ok",
     "timestamp": 1523302906579,
     "user": {
      "displayName": "Alexandre Gomes",
      "photoUrl": "//lh4.googleusercontent.com/-0SJODzHVIXQ/AAAAAAAAAAI/AAAAAAAAUeU/Cs1pVksWH3I/s50-c-k-no/photo.jpg",
      "userId": "108678232453929155174"
     },
     "user_tz": -60
    },
    "id": "-F2Y2eTa2Dbl",
    "outputId": "4245e751-7e20-4e12-b571-bb408c02cee6"
   },
   "outputs": [
    {
     "data": {
      "text/html": [
       "<div>\n",
       "<style>\n",
       "    .dataframe thead tr:only-child th {\n",
       "        text-align: right;\n",
       "    }\n",
       "\n",
       "    .dataframe thead th {\n",
       "        text-align: left;\n",
       "    }\n",
       "\n",
       "    .dataframe tbody tr th {\n",
       "        vertical-align: top;\n",
       "    }\n",
       "</style>\n",
       "<table border=\"1\" class=\"dataframe\">\n",
       "  <thead>\n",
       "    <tr style=\"text-align: right;\">\n",
       "      <th></th>\n",
       "      <th>PassengerId</th>\n",
       "      <th>Survived</th>\n",
       "      <th>Pclass</th>\n",
       "      <th>Name</th>\n",
       "      <th>Sex</th>\n",
       "      <th>Age</th>\n",
       "      <th>SibSp</th>\n",
       "      <th>Parch</th>\n",
       "      <th>Ticket</th>\n",
       "      <th>Fare</th>\n",
       "      <th>Cabin</th>\n",
       "      <th>Embarked</th>\n",
       "    </tr>\n",
       "  </thead>\n",
       "  <tbody>\n",
       "    <tr>\n",
       "      <th>0</th>\n",
       "      <td>1</td>\n",
       "      <td>0</td>\n",
       "      <td>3</td>\n",
       "      <td>Braund, Mr. Owen Harris</td>\n",
       "      <td>male</td>\n",
       "      <td>22.0</td>\n",
       "      <td>1</td>\n",
       "      <td>0</td>\n",
       "      <td>A/5 21171</td>\n",
       "      <td>7.2500</td>\n",
       "      <td>NaN</td>\n",
       "      <td>S</td>\n",
       "    </tr>\n",
       "    <tr>\n",
       "      <th>1</th>\n",
       "      <td>2</td>\n",
       "      <td>1</td>\n",
       "      <td>1</td>\n",
       "      <td>Cumings, Mrs. John Bradley (Florence Briggs Th...</td>\n",
       "      <td>female</td>\n",
       "      <td>38.0</td>\n",
       "      <td>1</td>\n",
       "      <td>0</td>\n",
       "      <td>PC 17599</td>\n",
       "      <td>71.2833</td>\n",
       "      <td>C85</td>\n",
       "      <td>C</td>\n",
       "    </tr>\n",
       "    <tr>\n",
       "      <th>2</th>\n",
       "      <td>3</td>\n",
       "      <td>1</td>\n",
       "      <td>3</td>\n",
       "      <td>Heikkinen, Miss. Laina</td>\n",
       "      <td>female</td>\n",
       "      <td>26.0</td>\n",
       "      <td>0</td>\n",
       "      <td>0</td>\n",
       "      <td>STON/O2. 3101282</td>\n",
       "      <td>7.9250</td>\n",
       "      <td>NaN</td>\n",
       "      <td>S</td>\n",
       "    </tr>\n",
       "    <tr>\n",
       "      <th>3</th>\n",
       "      <td>4</td>\n",
       "      <td>1</td>\n",
       "      <td>1</td>\n",
       "      <td>Futrelle, Mrs. Jacques Heath (Lily May Peel)</td>\n",
       "      <td>female</td>\n",
       "      <td>35.0</td>\n",
       "      <td>1</td>\n",
       "      <td>0</td>\n",
       "      <td>113803</td>\n",
       "      <td>53.1000</td>\n",
       "      <td>C123</td>\n",
       "      <td>S</td>\n",
       "    </tr>\n",
       "    <tr>\n",
       "      <th>4</th>\n",
       "      <td>5</td>\n",
       "      <td>0</td>\n",
       "      <td>3</td>\n",
       "      <td>Allen, Mr. William Henry</td>\n",
       "      <td>male</td>\n",
       "      <td>35.0</td>\n",
       "      <td>0</td>\n",
       "      <td>0</td>\n",
       "      <td>373450</td>\n",
       "      <td>8.0500</td>\n",
       "      <td>NaN</td>\n",
       "      <td>S</td>\n",
       "    </tr>\n",
       "  </tbody>\n",
       "</table>\n",
       "</div>"
      ],
      "text/plain": [
       "   PassengerId  Survived  Pclass  \\\n",
       "0            1         0       3   \n",
       "1            2         1       1   \n",
       "2            3         1       3   \n",
       "3            4         1       1   \n",
       "4            5         0       3   \n",
       "\n",
       "                                                Name     Sex   Age  SibSp  \\\n",
       "0                            Braund, Mr. Owen Harris    male  22.0      1   \n",
       "1  Cumings, Mrs. John Bradley (Florence Briggs Th...  female  38.0      1   \n",
       "2                             Heikkinen, Miss. Laina  female  26.0      0   \n",
       "3       Futrelle, Mrs. Jacques Heath (Lily May Peel)  female  35.0      1   \n",
       "4                           Allen, Mr. William Henry    male  35.0      0   \n",
       "\n",
       "   Parch            Ticket     Fare Cabin Embarked  \n",
       "0      0         A/5 21171   7.2500   NaN        S  \n",
       "1      0          PC 17599  71.2833   C85        C  \n",
       "2      0  STON/O2. 3101282   7.9250   NaN        S  \n",
       "3      0            113803  53.1000  C123        S  \n",
       "4      0            373450   8.0500   NaN        S  "
      ]
     },
     "execution_count": 20,
     "metadata": {},
     "output_type": "execute_result"
    }
   ],
   "source": [
    "train.head()"
   ]
  },
  {
   "cell_type": "markdown",
   "metadata": {
    "colab_type": "text",
    "id": "Gp6mkE4SBIN3"
   },
   "source": [
    "PassengerId, Name, Ticket and Cabin don't seem really useful for our predictions, so we'll remove themto keep it simple"
   ]
  },
  {
   "cell_type": "code",
   "execution_count": 21,
   "metadata": {
    "colab": {
     "autoexec": {
      "startup": false,
      "wait_interval": 0
     },
     "base_uri": "https://localhost:8080/",
     "height": 297
    },
    "colab_type": "code",
    "collapsed": false,
    "executionInfo": {
     "elapsed": 476,
     "status": "ok",
     "timestamp": 1523302908048,
     "user": {
      "displayName": "Alexandre Gomes",
      "photoUrl": "//lh4.googleusercontent.com/-0SJODzHVIXQ/AAAAAAAAAAI/AAAAAAAAUeU/Cs1pVksWH3I/s50-c-k-no/photo.jpg",
      "userId": "108678232453929155174"
     },
     "user_tz": -60
    },
    "id": "YB6ij-IDszEc",
    "outputId": "a0e3cf95-7425-43a4-9760-e3562ed69e37"
   },
   "outputs": [
    {
     "data": {
      "text/html": [
       "<div>\n",
       "<style>\n",
       "    .dataframe thead tr:only-child th {\n",
       "        text-align: right;\n",
       "    }\n",
       "\n",
       "    .dataframe thead th {\n",
       "        text-align: left;\n",
       "    }\n",
       "\n",
       "    .dataframe tbody tr th {\n",
       "        vertical-align: top;\n",
       "    }\n",
       "</style>\n",
       "<table border=\"1\" class=\"dataframe\">\n",
       "  <thead>\n",
       "    <tr style=\"text-align: right;\">\n",
       "      <th></th>\n",
       "      <th>Survived</th>\n",
       "      <th>Pclass</th>\n",
       "      <th>Age</th>\n",
       "      <th>SibSp</th>\n",
       "      <th>Parch</th>\n",
       "      <th>Fare</th>\n",
       "    </tr>\n",
       "  </thead>\n",
       "  <tbody>\n",
       "    <tr>\n",
       "      <th>count</th>\n",
       "      <td>891.000000</td>\n",
       "      <td>891.000000</td>\n",
       "      <td>714.000000</td>\n",
       "      <td>891.000000</td>\n",
       "      <td>891.000000</td>\n",
       "      <td>891.000000</td>\n",
       "    </tr>\n",
       "    <tr>\n",
       "      <th>mean</th>\n",
       "      <td>0.383838</td>\n",
       "      <td>2.308642</td>\n",
       "      <td>29.699118</td>\n",
       "      <td>0.523008</td>\n",
       "      <td>0.381594</td>\n",
       "      <td>32.204208</td>\n",
       "    </tr>\n",
       "    <tr>\n",
       "      <th>std</th>\n",
       "      <td>0.486592</td>\n",
       "      <td>0.836071</td>\n",
       "      <td>14.526497</td>\n",
       "      <td>1.102743</td>\n",
       "      <td>0.806057</td>\n",
       "      <td>49.693429</td>\n",
       "    </tr>\n",
       "    <tr>\n",
       "      <th>min</th>\n",
       "      <td>0.000000</td>\n",
       "      <td>1.000000</td>\n",
       "      <td>0.420000</td>\n",
       "      <td>0.000000</td>\n",
       "      <td>0.000000</td>\n",
       "      <td>0.000000</td>\n",
       "    </tr>\n",
       "    <tr>\n",
       "      <th>25%</th>\n",
       "      <td>0.000000</td>\n",
       "      <td>2.000000</td>\n",
       "      <td>20.125000</td>\n",
       "      <td>0.000000</td>\n",
       "      <td>0.000000</td>\n",
       "      <td>7.910400</td>\n",
       "    </tr>\n",
       "    <tr>\n",
       "      <th>50%</th>\n",
       "      <td>0.000000</td>\n",
       "      <td>3.000000</td>\n",
       "      <td>28.000000</td>\n",
       "      <td>0.000000</td>\n",
       "      <td>0.000000</td>\n",
       "      <td>14.454200</td>\n",
       "    </tr>\n",
       "    <tr>\n",
       "      <th>75%</th>\n",
       "      <td>1.000000</td>\n",
       "      <td>3.000000</td>\n",
       "      <td>38.000000</td>\n",
       "      <td>1.000000</td>\n",
       "      <td>0.000000</td>\n",
       "      <td>31.000000</td>\n",
       "    </tr>\n",
       "    <tr>\n",
       "      <th>max</th>\n",
       "      <td>1.000000</td>\n",
       "      <td>3.000000</td>\n",
       "      <td>80.000000</td>\n",
       "      <td>8.000000</td>\n",
       "      <td>6.000000</td>\n",
       "      <td>512.329200</td>\n",
       "    </tr>\n",
       "  </tbody>\n",
       "</table>\n",
       "</div>"
      ],
      "text/plain": [
       "         Survived      Pclass         Age       SibSp       Parch        Fare\n",
       "count  891.000000  891.000000  714.000000  891.000000  891.000000  891.000000\n",
       "mean     0.383838    2.308642   29.699118    0.523008    0.381594   32.204208\n",
       "std      0.486592    0.836071   14.526497    1.102743    0.806057   49.693429\n",
       "min      0.000000    1.000000    0.420000    0.000000    0.000000    0.000000\n",
       "25%      0.000000    2.000000   20.125000    0.000000    0.000000    7.910400\n",
       "50%      0.000000    3.000000   28.000000    0.000000    0.000000   14.454200\n",
       "75%      1.000000    3.000000   38.000000    1.000000    0.000000   31.000000\n",
       "max      1.000000    3.000000   80.000000    8.000000    6.000000  512.329200"
      ]
     },
     "execution_count": 21,
     "metadata": {},
     "output_type": "execute_result"
    }
   ],
   "source": [
    "train = train.drop([\"PassengerId\", \"Name\", \"Ticket\", \"Cabin\"], axis = 1)\n",
    "train.describe()"
   ]
  },
  {
   "cell_type": "markdown",
   "metadata": {
    "colab_type": "text",
    "id": "03ii98KGtPkM"
   },
   "source": [
    "Count of column age indicates we have missing values. Let's clean the datset by removing these (not the best solution but will let us do the plots)."
   ]
  },
  {
   "cell_type": "code",
   "execution_count": 22,
   "metadata": {
    "colab": {
     "autoexec": {
      "startup": false,
      "wait_interval": 0
     },
     "base_uri": "https://localhost:8080/",
     "height": 297
    },
    "colab_type": "code",
    "collapsed": false,
    "executionInfo": {
     "elapsed": 496,
     "status": "ok",
     "timestamp": 1523302909709,
     "user": {
      "displayName": "Alexandre Gomes",
      "photoUrl": "//lh4.googleusercontent.com/-0SJODzHVIXQ/AAAAAAAAAAI/AAAAAAAAUeU/Cs1pVksWH3I/s50-c-k-no/photo.jpg",
      "userId": "108678232453929155174"
     },
     "user_tz": -60
    },
    "id": "lHb2Z-002bSx",
    "outputId": "02ecad9c-0bf1-41dc-e13c-c638839e491e"
   },
   "outputs": [
    {
     "data": {
      "text/html": [
       "<div>\n",
       "<style>\n",
       "    .dataframe thead tr:only-child th {\n",
       "        text-align: right;\n",
       "    }\n",
       "\n",
       "    .dataframe thead th {\n",
       "        text-align: left;\n",
       "    }\n",
       "\n",
       "    .dataframe tbody tr th {\n",
       "        vertical-align: top;\n",
       "    }\n",
       "</style>\n",
       "<table border=\"1\" class=\"dataframe\">\n",
       "  <thead>\n",
       "    <tr style=\"text-align: right;\">\n",
       "      <th></th>\n",
       "      <th>Survived</th>\n",
       "      <th>Pclass</th>\n",
       "      <th>Age</th>\n",
       "      <th>SibSp</th>\n",
       "      <th>Parch</th>\n",
       "      <th>Fare</th>\n",
       "      <th>Sex_num</th>\n",
       "    </tr>\n",
       "  </thead>\n",
       "  <tbody>\n",
       "    <tr>\n",
       "      <th>count</th>\n",
       "      <td>712.000000</td>\n",
       "      <td>712.000000</td>\n",
       "      <td>712.000000</td>\n",
       "      <td>712.000000</td>\n",
       "      <td>712.000000</td>\n",
       "      <td>712.000000</td>\n",
       "      <td>712.000000</td>\n",
       "    </tr>\n",
       "    <tr>\n",
       "      <th>mean</th>\n",
       "      <td>0.404494</td>\n",
       "      <td>2.240169</td>\n",
       "      <td>29.642093</td>\n",
       "      <td>0.514045</td>\n",
       "      <td>0.432584</td>\n",
       "      <td>34.567251</td>\n",
       "      <td>0.363764</td>\n",
       "    </tr>\n",
       "    <tr>\n",
       "      <th>std</th>\n",
       "      <td>0.491139</td>\n",
       "      <td>0.836854</td>\n",
       "      <td>14.492933</td>\n",
       "      <td>0.930692</td>\n",
       "      <td>0.854181</td>\n",
       "      <td>52.938648</td>\n",
       "      <td>0.481420</td>\n",
       "    </tr>\n",
       "    <tr>\n",
       "      <th>min</th>\n",
       "      <td>0.000000</td>\n",
       "      <td>1.000000</td>\n",
       "      <td>0.420000</td>\n",
       "      <td>0.000000</td>\n",
       "      <td>0.000000</td>\n",
       "      <td>0.000000</td>\n",
       "      <td>0.000000</td>\n",
       "    </tr>\n",
       "    <tr>\n",
       "      <th>25%</th>\n",
       "      <td>0.000000</td>\n",
       "      <td>1.000000</td>\n",
       "      <td>20.000000</td>\n",
       "      <td>0.000000</td>\n",
       "      <td>0.000000</td>\n",
       "      <td>8.050000</td>\n",
       "      <td>0.000000</td>\n",
       "    </tr>\n",
       "    <tr>\n",
       "      <th>50%</th>\n",
       "      <td>0.000000</td>\n",
       "      <td>2.000000</td>\n",
       "      <td>28.000000</td>\n",
       "      <td>0.000000</td>\n",
       "      <td>0.000000</td>\n",
       "      <td>15.645850</td>\n",
       "      <td>0.000000</td>\n",
       "    </tr>\n",
       "    <tr>\n",
       "      <th>75%</th>\n",
       "      <td>1.000000</td>\n",
       "      <td>3.000000</td>\n",
       "      <td>38.000000</td>\n",
       "      <td>1.000000</td>\n",
       "      <td>1.000000</td>\n",
       "      <td>33.000000</td>\n",
       "      <td>1.000000</td>\n",
       "    </tr>\n",
       "    <tr>\n",
       "      <th>max</th>\n",
       "      <td>1.000000</td>\n",
       "      <td>3.000000</td>\n",
       "      <td>80.000000</td>\n",
       "      <td>5.000000</td>\n",
       "      <td>6.000000</td>\n",
       "      <td>512.329200</td>\n",
       "      <td>1.000000</td>\n",
       "    </tr>\n",
       "  </tbody>\n",
       "</table>\n",
       "</div>"
      ],
      "text/plain": [
       "         Survived      Pclass         Age       SibSp       Parch        Fare  \\\n",
       "count  712.000000  712.000000  712.000000  712.000000  712.000000  712.000000   \n",
       "mean     0.404494    2.240169   29.642093    0.514045    0.432584   34.567251   \n",
       "std      0.491139    0.836854   14.492933    0.930692    0.854181   52.938648   \n",
       "min      0.000000    1.000000    0.420000    0.000000    0.000000    0.000000   \n",
       "25%      0.000000    1.000000   20.000000    0.000000    0.000000    8.050000   \n",
       "50%      0.000000    2.000000   28.000000    0.000000    0.000000   15.645850   \n",
       "75%      1.000000    3.000000   38.000000    1.000000    1.000000   33.000000   \n",
       "max      1.000000    3.000000   80.000000    5.000000    6.000000  512.329200   \n",
       "\n",
       "          Sex_num  \n",
       "count  712.000000  \n",
       "mean     0.363764  \n",
       "std      0.481420  \n",
       "min      0.000000  \n",
       "25%      0.000000  \n",
       "50%      0.000000  \n",
       "75%      1.000000  \n",
       "max      1.000000  "
      ]
     },
     "execution_count": 22,
     "metadata": {},
     "output_type": "execute_result"
    }
   ],
   "source": [
    "train_clean = train.copy().dropna()\n",
    "train_clean[\"Sex_num\"] = train_clean.Sex.apply(lambda x: 1 if x == 'female' else 0)\n",
    "train_clean.describe()"
   ]
  },
  {
   "cell_type": "markdown",
   "metadata": {
    "colab_type": "text",
    "id": "42rbexIS3AUn"
   },
   "source": [
    " * In our training set there's only 38% of survivers\n",
    " * And 36% women\n",
    " * Ages range from 0.42 to 80 and the avg is 29.6\n",
    " * At first sight it looks like there could be outliers in the Fare\n",
    "\n"
   ]
  },
  {
   "cell_type": "code",
   "execution_count": 23,
   "metadata": {
    "colab": {
     "autoexec": {
      "startup": false,
      "wait_interval": 0
     },
     "base_uri": "https://localhost:8080/",
     "height": 204
    },
    "colab_type": "code",
    "collapsed": false,
    "executionInfo": {
     "elapsed": 534,
     "status": "ok",
     "timestamp": 1523304572307,
     "user": {
      "displayName": "Alexandre Gomes",
      "photoUrl": "//lh4.googleusercontent.com/-0SJODzHVIXQ/AAAAAAAAAAI/AAAAAAAAUeU/Cs1pVksWH3I/s50-c-k-no/photo.jpg",
      "userId": "108678232453929155174"
     },
     "user_tz": -60
    },
    "id": "7G4CtKUT-s2_",
    "outputId": "e496c44d-ac6a-4be6-c0d3-41cc9fe72582"
   },
   "outputs": [
    {
     "data": {
      "text/plain": [
       "679    512.3292\n",
       "258    512.3292\n",
       "737    512.3292\n",
       "341    263.0000\n",
       "438    263.0000\n",
       "88     263.0000\n",
       "27     263.0000\n",
       "311    262.3750\n",
       "742    262.3750\n",
       "299    247.5208\n",
       "Name: Fare, dtype: float64"
      ]
     },
     "execution_count": 23,
     "metadata": {},
     "output_type": "execute_result"
    }
   ],
   "source": [
    "train.Fare.sort_values(ascending=False).head(10)"
   ]
  },
  {
   "cell_type": "code",
   "execution_count": 31,
   "metadata": {
    "colab": {
     "autoexec": {
      "startup": false,
      "wait_interval": 0
     },
     "base_uri": "https://localhost:8080/",
     "height": 401
    },
    "colab_type": "code",
    "collapsed": false,
    "executionInfo": {
     "elapsed": 1143,
     "status": "ok",
     "timestamp": 1523304734532,
     "user": {
      "displayName": "Alexandre Gomes",
      "photoUrl": "//lh4.googleusercontent.com/-0SJODzHVIXQ/AAAAAAAAAAI/AAAAAAAAUeU/Cs1pVksWH3I/s50-c-k-no/photo.jpg",
      "userId": "108678232453929155174"
     },
     "user_tz": -60
    },
    "id": "5bnjXB007gWB",
    "outputId": "e375208b-cb8a-4d35-bade-9eb87ee04645"
   },
   "outputs": [
    {
     "data": {
      "text/plain": [
       "<matplotlib.figure.Figure at 0x286d1cd4eb8>"
      ]
     },
     "metadata": {},
     "output_type": "display_data"
    },
    {
     "data": {
      "image/png": "[encoded data removed]",
      "text/plain": [
       "<matplotlib.figure.Figure at 0x286d2077518>"
      ]
     },
     "metadata": {},
     "output_type": "display_data"
    }
   ],
   "source": [
    "# Function to draw boxplots for each numeric feature of a given DataFrame\n",
    "def boxplots_all_columns(df):\n",
    "    plt.figure()\n",
    "    num_feat_df = df.select_dtypes(include = [np.number])\n",
    "    n=num_feat_df.shape[1]\n",
    "    plt.figure()\n",
    "    for i,col in enumerate(num_feat_df.columns):\n",
    "      plt.subplot(1,n,i+1)\n",
    "      sns.boxplot(train[col],orient = 'v')\n",
    "    plt.tight_layout()\n",
    "    plt.show()\n",
    "\n",
    "boxplots_all_columns(train)"
   ]
  },
  {
   "cell_type": "code",
   "execution_count": 34,
   "metadata": {
    "colab": {
     "autoexec": {
      "startup": false,
      "wait_interval": 0
     },
     "base_uri": "https://localhost:8080/",
     "height": 378
    },
    "colab_type": "code",
    "collapsed": false,
    "executionInfo": {
     "elapsed": 1005,
     "status": "ok",
     "timestamp": 1523302913332,
     "user": {
      "displayName": "Alexandre Gomes",
      "photoUrl": "//lh4.googleusercontent.com/-0SJODzHVIXQ/AAAAAAAAAAI/AAAAAAAAUeU/Cs1pVksWH3I/s50-c-k-no/photo.jpg",
      "userId": "108678232453929155174"
     },
     "user_tz": -60
    },
    "id": "ADV2uYad-Jm2",
    "outputId": "18c156f2-97da-4d72-8dcf-8017facceddb"
   },
   "outputs": [
    {
     "data": {
      "image/png": "[encoded data removed]",
      "text/plain": [
       "<matplotlib.figure.Figure at 0x286d27485f8>"
      ]
     },
     "metadata": {},
     "output_type": "display_data"
    }
   ],
   "source": [
    "#Age\n",
    "plt.figure()\n",
    "sns.distplot(train_clean.Age)\n",
    "plt.show()"
   ]
  },
  {
   "cell_type": "markdown",
   "metadata": {
    "colab_type": "text",
    "id": "WTjUkw1evk-y"
   },
   "source": [
    "A lot of newborns"
   ]
  },
  {
   "cell_type": "markdown",
   "metadata": {
    "colab_type": "text",
    "id": "90N-Gk_uJ7JK"
   },
   "source": [
    "### How does gender affect the chance of survival?"
   ]
  },
  {
   "cell_type": "code",
   "execution_count": 37,
   "metadata": {
    "colab": {
     "autoexec": {
      "startup": false,
      "wait_interval": 0
     },
     "base_uri": "https://localhost:8080/",
     "height": 361
    },
    "colab_type": "code",
    "collapsed": false,
    "executionInfo": {
     "elapsed": 534,
     "status": "ok",
     "timestamp": 1523306147309,
     "user": {
      "displayName": "Alexandre Gomes",
      "photoUrl": "//lh4.googleusercontent.com/-0SJODzHVIXQ/AAAAAAAAAAI/AAAAAAAAUeU/Cs1pVksWH3I/s50-c-k-no/photo.jpg",
      "userId": "108678232453929155174"
     },
     "user_tz": -60
    },
    "id": "EZMz-Uf3CeZ4",
    "outputId": "0cca053e-bcea-43e1-9ecf-908ba4ecf566"
   },
   "outputs": [
    {
     "data": {
      "image/png": "[encoded data removed]",
      "text/plain": [
       "<matplotlib.figure.Figure at 0x286d26d2ba8>"
      ]
     },
     "metadata": {},
     "output_type": "display_data"
    }
   ],
   "source": [
    "sns.countplot(x='Sex', hue='Survived', data = train_clean);\n",
    "plt.show()"
   ]
  },
  {
   "cell_type": "markdown",
   "metadata": {
    "colab_type": "text",
    "id": "d_BT2vF4KQIE"
   },
   "source": [
    "### Does it change accross different ages?"
   ]
  },
  {
   "cell_type": "code",
   "execution_count": 39,
   "metadata": {
    "colab": {
     "autoexec": {
      "startup": false,
      "wait_interval": 0
     },
     "base_uri": "https://localhost:8080/",
     "height": 365
    },
    "colab_type": "code",
    "collapsed": false,
    "executionInfo": {
     "elapsed": 1028,
     "status": "ok",
     "timestamp": 1523306688035,
     "user": {
      "displayName": "Alexandre Gomes",
      "photoUrl": "//lh4.googleusercontent.com/-0SJODzHVIXQ/AAAAAAAAAAI/AAAAAAAAUeU/Cs1pVksWH3I/s50-c-k-no/photo.jpg",
      "userId": "108678232453929155174"
     },
     "user_tz": -60
    },
    "id": "piJl3eaKwoEz",
    "outputId": "a7835045-34f6-40d8-b741-42037c070571"
   },
   "outputs": [
    {
     "data": {
      "image/png": "[encoded data removed]",
      "text/plain": [
       "<matplotlib.figure.Figure at 0x286d25f9a20>"
      ]
     },
     "metadata": {},
     "output_type": "display_data"
    }
   ],
   "source": [
    "survived = train_clean[train_clean.Survived == 1]\n",
    "nsurvived = train_clean[train_clean.Survived == 0]\n",
    "\n",
    "plt.figure(figsize=(15,5))\n",
    "plt.subplot(1,2,1)\n",
    "p1 = sns.distplot(survived[survived.Sex=='male'].Age, color = 'g', hist=False)\n",
    "sns.distplot(nsurvived[nsurvived.Sex=='male'].Age, color = 'r', hist=False)\n",
    "p1.set_title('Male');\n",
    "p1.axes.get_yaxis().set_ticklabels([])\n",
    "\n",
    "\n",
    "plt.subplot(1,2,2)\n",
    "p = sns.distplot(survived[survived.Sex=='female'].Age, color = 'g', hist=False, label = 'Survived')\n",
    "sns.distplot(nsurvived[nsurvived.Sex=='female'].Age, color = 'r', hist=False, label = 'Sank')\n",
    "p.set_title('Female');\n",
    "plt.legend(['1','0'])\n",
    "p.axes.get_yaxis().set_ticklabels([])\n",
    "plt.tight_layout()\n",
    "\n",
    "plt.show()\n",
    "\n",
    "# or you could also just run this: sns.violinplot(x=\"Age\",y=\"Sex\", hue=\"Survived\", data=train_clean, split = True);"
   ]
  },
  {
   "cell_type": "markdown",
   "metadata": {
    "colab_type": "text",
    "id": "YuI_1dOhlafC"
   },
   "source": [
    "\n",
    "\n",
    "*   Young men have a high chance of surviving, unlike female children\n",
    "*   The opposite happens for the elderly\n",
    "\n"
   ]
  },
  {
   "cell_type": "markdown",
   "metadata": {},
   "source": [
    "## How about PClass?"
   ]
  },
  {
   "cell_type": "code",
   "execution_count": 38,
   "metadata": {
    "colab": {
     "autoexec": {
      "startup": false,
      "wait_interval": 0
     },
     "base_uri": "https://localhost:8080/",
     "height": 361
    },
    "colab_type": "code",
    "collapsed": false,
    "executionInfo": {
     "elapsed": 552,
     "status": "ok",
     "timestamp": 1523306889391,
     "user": {
      "displayName": "Alexandre Gomes",
      "photoUrl": "//lh4.googleusercontent.com/-0SJODzHVIXQ/AAAAAAAAAAI/AAAAAAAAUeU/Cs1pVksWH3I/s50-c-k-no/photo.jpg",
      "userId": "108678232453929155174"
     },
     "user_tz": -60
    },
    "id": "HcdKe1kNKieH",
    "outputId": "10fd9222-2686-4675-9a53-7e4bf3fb8dd1",
    "scrolled": true
   },
   "outputs": [
    {
     "data": {
      "image/png": "[encoded data removed]",
      "text/plain": [
       "<matplotlib.figure.Figure at 0x286d22f9eb8>"
      ]
     },
     "metadata": {},
     "output_type": "display_data"
    }
   ],
   "source": [
    "sns.countplot(x='Pclass', hue='Survived', data = train.dropna());\n",
    "plt.show()"
   ]
  },
  {
   "cell_type": "markdown",
   "metadata": {
    "colab_type": "text",
    "id": "OFX85u0dKr0N"
   },
   "source": [
    "Pclass seems to influence the outcome: 3rd class people have a much lower chance of surviving"
   ]
  },
  {
   "cell_type": "markdown",
   "metadata": {},
   "source": [
    "## And Fare"
   ]
  },
  {
   "cell_type": "code",
   "execution_count": 42,
   "metadata": {
    "colab": {
     "autoexec": {
      "startup": false,
      "wait_interval": 0
     },
     "base_uri": "https://localhost:8080/",
     "height": 296
    },
    "colab_type": "code",
    "collapsed": false,
    "executionInfo": {
     "elapsed": 607,
     "status": "ok",
     "timestamp": 1523309280824,
     "user": {
      "displayName": "Alexandre Gomes",
      "photoUrl": "//lh4.googleusercontent.com/-0SJODzHVIXQ/AAAAAAAAAAI/AAAAAAAAUeU/Cs1pVksWH3I/s50-c-k-no/photo.jpg",
      "userId": "108678232453929155174"
     },
     "user_tz": -60
    },
    "id": "S_cvfpv8K3Sn",
    "outputId": "e5b86225-40d8-4db5-ad54-d83fef0ceec2",
    "scrolled": true
   },
   "outputs": [
    {
     "data": {
      "image/png": "[encoded data removed]",
      "text/plain": [
       "<matplotlib.figure.Figure at 0x286d23d3518>"
      ]
     },
     "metadata": {},
     "output_type": "display_data"
    }
   ],
   "source": [
    "plt.figure(figsize=(15,4))\n",
    "p=sns.distplot(survived.Fare, color = 'g', hist=False, label = 'Survived')\n",
    "p = sns.distplot(nsurvived.Fare, color = 'r', hist=False, label = 'Sank')\n",
    "p.axes.get_yaxis().set_ticklabels([])\n",
    "plt.show()"
   ]
  },
  {
   "cell_type": "code",
   "execution_count": null,
   "metadata": {
    "collapsed": true
   },
   "outputs": [],
   "source": []
  }
 ],
 "metadata": {
  "colab": {
   "default_view": {},
   "name": "Data_Viz.ipynb",
   "provenance": [],
   "version": "0.3.2",
   "views": {}
  },
  "kernelspec": {
   "display_name": "Python 3",
   "language": "python",
   "name": "python3"
  },
  "language_info": {
   "codemirror_mode": {
    "name": "ipython",
    "version": 3
   },
   "file_extension": ".py",
   "mimetype": "text/x-python",
   "name": "python",
   "nbconvert_exporter": "python",
   "pygments_lexer": "ipython3",
   "version": "3.6.0"
  }
 },
 "nbformat": 4,
 "nbformat_minor": 0
}
